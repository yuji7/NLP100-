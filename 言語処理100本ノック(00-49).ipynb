{
 "cells": [
  {
   "cell_type": "code",
   "execution_count": 1,
   "metadata": {},
   "outputs": [
    {
     "data": {
      "text/plain": [
       "'desserts'"
      ]
     },
     "execution_count": 1,
     "metadata": {},
     "output_type": "execute_result"
    }
   ],
   "source": [
    "#00\n",
    "a = 'stressed'\n",
    "a[::-1]"
   ]
  },
  {
   "cell_type": "code",
   "execution_count": 2,
   "metadata": {},
   "outputs": [
    {
     "data": {
      "text/plain": [
       "'パトカー'"
      ]
     },
     "execution_count": 2,
     "metadata": {},
     "output_type": "execute_result"
    }
   ],
   "source": [
    "#01\n",
    "b = 'パタトクカシーー'\n",
    "b[0::2]"
   ]
  },
  {
   "cell_type": "code",
   "execution_count": 3,
   "metadata": {},
   "outputs": [
    {
     "data": {
      "text/plain": [
       "'パタトクカシーー'"
      ]
     },
     "execution_count": 3,
     "metadata": {},
     "output_type": "execute_result"
    }
   ],
   "source": [
    "#02\n",
    "c,d = 'パトカー','タクシー'\n",
    "e = ''\n",
    "for i in range(len(c)):\n",
    "    e += c[i]+d[i]\n",
    "e    "
   ]
  },
  {
   "cell_type": "code",
   "execution_count": 4,
   "metadata": {},
   "outputs": [
    {
     "data": {
      "text/plain": [
       "[3, 1, 4, 1, 5, 9, 2, 6, 5, 3, 5, 8, 9, 7, 10]"
      ]
     },
     "execution_count": 4,
     "metadata": {},
     "output_type": "execute_result"
    }
   ],
   "source": [
    "#03\n",
    "f = \"Now I need a drink, alcoholic of course, after the heavy lectures involving quantum mechanics.\"\n",
    "f = f.replace(',' , ' ')\n",
    "[len(a) for a in f.split()]"
   ]
  },
  {
   "cell_type": "code",
   "execution_count": 5,
   "metadata": {},
   "outputs": [
    {
     "name": "stdout",
     "output_type": "stream",
     "text": [
      "{'H': 0, 'He': 1, 'Li': 2, 'Be': 3, 'B': 4, 'C': 5, 'N': 6, 'O': 7, 'F': 8, 'Ne': 9, 'Na': 10, 'Mi': 11, 'Al': 12, 'Si': 13, 'P': 14, 'S': 15, 'Cl': 16, 'Ar': 17, 'K': 18, 'Ca': 19}\n"
     ]
    }
   ],
   "source": [
    "#04\n",
    "g = \"Hi He Lied Because Boron Could Not Oxidize Fluorine. New Nations Might Also Sign Peace Security Clause. Arthur King Can.\"\n",
    "g = g.replace('.',' ')\n",
    "h = [0,1,1,1,0,0,0,0,0,1,1,1,1,1,0,0,1,1,0,1]\n",
    "a = {}\n",
    "for i in range(len(h)):\n",
    "              a['{}'.format(g.split()[i][:(h[i]+1)])]=i\n",
    "print(a)"
   ]
  },
  {
   "cell_type": "code",
   "execution_count": 6,
   "metadata": {},
   "outputs": [
    {
     "name": "stdout",
     "output_type": "stream",
     "text": [
      "[['I', 'am'], ['am', 'an'], ['an', 'NLPer']]\n",
      "['Ia', 'am', 'ma', 'an', 'nN', 'NL', 'LP', 'Pe', 'er']\n"
     ]
    }
   ],
   "source": [
    "#05\n",
    "def ngram(seq,n,word = True):\n",
    "    a = []\n",
    "    seq = seq.replace('.','')\n",
    "    seq = seq.replace(',','')\n",
    "    if word == False:\n",
    "        seq = seq.replace(' ','')\n",
    "    if word == True:    \n",
    "        seq  = seq.split()\n",
    "    for i in range(len(seq)-n+1):\n",
    "                   a.append(seq[i:i+n])\n",
    "    return a\n",
    "seq1 = \"I am an NLPer\"\n",
    "print(ngram(seq1,2))\n",
    "print(ngram(seq1,2,False))"
   ]
  },
  {
   "cell_type": "code",
   "execution_count": 7,
   "metadata": {},
   "outputs": [
    {
     "name": "stdout",
     "output_type": "stream",
     "text": [
      "False\n"
     ]
    }
   ],
   "source": [
    "#06\n",
    "a = 'paraparaparadise'\n",
    "b = 'paragraph'\n",
    "X = ngram(a,2,False)\n",
    "Y = ngram(b,2,False)\n",
    "intersection = [x for x in X if x in Y]\n",
    "union = X + [x for x in Y if x not in X]\n",
    "diff = [x for x in Y if x not in X] + [x for x in X if x not in Y]\n",
    "print('se' in (X and Y))"
   ]
  },
  {
   "cell_type": "code",
   "execution_count": 83,
   "metadata": {},
   "outputs": [
    {
     "data": {
      "text/plain": [
       "'12時の気温は22.4˚C'"
      ]
     },
     "execution_count": 83,
     "metadata": {},
     "output_type": "execute_result"
    }
   ],
   "source": [
    "#07\n",
    "def xnotoki(x,y,z):\n",
    "    return '{}時の{}は{}˚C'.format(x,y,z)\n",
    "xnotoki(12,'気温',22.4)"
   ]
  },
  {
   "cell_type": "code",
   "execution_count": 9,
   "metadata": {},
   "outputs": [
    {
     "name": "stdout",
     "output_type": "stream",
     "text": [
      "plmmrxsrda nb manv rh bfqr!\n"
     ]
    },
    {
     "data": {
      "text/plain": [
       "'konnichiwa my name is yuji!'"
      ]
     },
     "execution_count": 9,
     "metadata": {},
     "output_type": "execute_result"
    }
   ],
   "source": [
    "#08\n",
    "def cipher(seq):\n",
    "    a = ''\n",
    "    for i in range(len(seq)):\n",
    "        if 97 <  ord(seq[i]) < 122:\n",
    "            a += chr(219-ord(seq[i]))\n",
    "        else:\n",
    "            a += seq[i]\n",
    "    return a\n",
    "a = cipher('konnichiwa my name is yuji!')\n",
    "print(a)\n",
    "cipher(a)"
   ]
  },
  {
   "cell_type": "code",
   "execution_count": 77,
   "metadata": {},
   "outputs": [
    {
     "data": {
      "text/plain": [
       "\"I cnlodu't bleivee taht I could atacluly untnaesdrd what I was readnig : the pemenhonal power of the hmaun mnid .\""
      ]
     },
     "execution_count": 77,
     "metadata": {},
     "output_type": "execute_result"
    }
   ],
   "source": [
    "#09\n",
    "import random as random\n",
    "def typoglycemia(seq):\n",
    "    splitseq = seq.split()\n",
    "    a = []\n",
    "    for stuff in splitseq:\n",
    "        stuff1 = stuff\n",
    "        if len(stuff1) > 3:\n",
    "            b = [c for c in stuff1[1:-1]]\n",
    "            random.shuffle(b)\n",
    "            c = ''.join(b)\n",
    "            stuff2 = stuff1.replace(stuff1[1:-1],c)\n",
    "            a.append(stuff2)\n",
    "        else:\n",
    "            a.append(stuff1)\n",
    "    return ' '.join(a)\n",
    "typoglycemia('I couldn\\'t believe that I could actually understand what I was reading : the phenomenal power of the human mind .')"
   ]
  },
  {
   "cell_type": "code",
   "execution_count": 127,
   "metadata": {},
   "outputs": [],
   "source": [
    "#10-19\n",
    "import pandas as pd\n",
    "import numpy as np\n",
    "url = 'http://www.cl.ecei.tohoku.ac.jp/nlp100/data/hightemp.txt'\n",
    "data = pd.read_csv(url, delimiter = '\\t',header=None)"
   ]
  },
  {
   "cell_type": "code",
   "execution_count": 99,
   "metadata": {},
   "outputs": [
    {
     "data": {
      "text/plain": [
       "24"
      ]
     },
     "execution_count": 99,
     "metadata": {},
     "output_type": "execute_result"
    }
   ],
   "source": [
    "#10\n",
    "len(data)"
   ]
  },
  {
   "cell_type": "code",
   "execution_count": 100,
   "metadata": {},
   "outputs": [],
   "source": [
    "#11 よくわからんからやらない"
   ]
  },
  {
   "cell_type": "code",
   "execution_count": 117,
   "metadata": {},
   "outputs": [
    {
     "data": {
      "text/html": [
       "<div>\n",
       "<style scoped>\n",
       "    .dataframe tbody tr th:only-of-type {\n",
       "        vertical-align: middle;\n",
       "    }\n",
       "\n",
       "    .dataframe tbody tr th {\n",
       "        vertical-align: top;\n",
       "    }\n",
       "\n",
       "    .dataframe thead th {\n",
       "        text-align: right;\n",
       "    }\n",
       "</style>\n",
       "<table border=\"1\" class=\"dataframe\">\n",
       "  <thead>\n",
       "    <tr style=\"text-align: right;\">\n",
       "      <th></th>\n",
       "      <th>0</th>\n",
       "      <th>1</th>\n",
       "      <th>2</th>\n",
       "      <th>3</th>\n",
       "    </tr>\n",
       "  </thead>\n",
       "  <tbody>\n",
       "    <tr>\n",
       "      <th>0</th>\n",
       "      <td>高知県</td>\n",
       "      <td>江川崎</td>\n",
       "      <td>41.0</td>\n",
       "      <td>2013-08-12</td>\n",
       "    </tr>\n",
       "    <tr>\n",
       "      <th>1</th>\n",
       "      <td>埼玉県</td>\n",
       "      <td>熊谷</td>\n",
       "      <td>40.9</td>\n",
       "      <td>2007-08-16</td>\n",
       "    </tr>\n",
       "  </tbody>\n",
       "</table>\n",
       "</div>"
      ],
      "text/plain": [
       "     0    1     2           3\n",
       "0  高知県  江川崎  41.0  2013-08-12\n",
       "1  埼玉県   熊谷  40.9  2007-08-16"
      ]
     },
     "execution_count": 117,
     "metadata": {},
     "output_type": "execute_result"
    }
   ],
   "source": [
    "#12 and 13\n",
    "a = data.iloc[[0]]\n",
    "b = data.iloc[[1]]\n",
    "#a.to_csv('one.csv')\n",
    "#b.to_csv('tso.csv')\n",
    "c = pd.concat([a,b])\n",
    "c"
   ]
  },
  {
   "cell_type": "code",
   "execution_count": 123,
   "metadata": {},
   "outputs": [
    {
     "data": {
      "text/html": [
       "<div>\n",
       "<style scoped>\n",
       "    .dataframe tbody tr th:only-of-type {\n",
       "        vertical-align: middle;\n",
       "    }\n",
       "\n",
       "    .dataframe tbody tr th {\n",
       "        vertical-align: top;\n",
       "    }\n",
       "\n",
       "    .dataframe thead th {\n",
       "        text-align: right;\n",
       "    }\n",
       "</style>\n",
       "<table border=\"1\" class=\"dataframe\">\n",
       "  <thead>\n",
       "    <tr style=\"text-align: right;\">\n",
       "      <th></th>\n",
       "      <th>0</th>\n",
       "      <th>1</th>\n",
       "      <th>2</th>\n",
       "      <th>3</th>\n",
       "    </tr>\n",
       "  </thead>\n",
       "  <tbody>\n",
       "    <tr>\n",
       "      <th>0</th>\n",
       "      <td>高知県</td>\n",
       "      <td>江川崎</td>\n",
       "      <td>41.0</td>\n",
       "      <td>2013-08-12</td>\n",
       "    </tr>\n",
       "    <tr>\n",
       "      <th>1</th>\n",
       "      <td>埼玉県</td>\n",
       "      <td>熊谷</td>\n",
       "      <td>40.9</td>\n",
       "      <td>2007-08-16</td>\n",
       "    </tr>\n",
       "    <tr>\n",
       "      <th>2</th>\n",
       "      <td>岐阜県</td>\n",
       "      <td>多治見</td>\n",
       "      <td>40.9</td>\n",
       "      <td>2007-08-16</td>\n",
       "    </tr>\n",
       "    <tr>\n",
       "      <th>3</th>\n",
       "      <td>山形県</td>\n",
       "      <td>山形</td>\n",
       "      <td>40.8</td>\n",
       "      <td>1933-07-25</td>\n",
       "    </tr>\n",
       "    <tr>\n",
       "      <th>4</th>\n",
       "      <td>山梨県</td>\n",
       "      <td>甲府</td>\n",
       "      <td>40.7</td>\n",
       "      <td>2013-08-10</td>\n",
       "    </tr>\n",
       "  </tbody>\n",
       "</table>\n",
       "</div>"
      ],
      "text/plain": [
       "     0    1     2           3\n",
       "0  高知県  江川崎  41.0  2013-08-12\n",
       "1  埼玉県   熊谷  40.9  2007-08-16\n",
       "2  岐阜県  多治見  40.9  2007-08-16\n",
       "3  山形県   山形  40.8  1933-07-25\n",
       "4  山梨県   甲府  40.7  2013-08-10"
      ]
     },
     "execution_count": 123,
     "metadata": {},
     "output_type": "execute_result"
    }
   ],
   "source": [
    "#14\n",
    "n = 5\n",
    "a = data.iloc[:n]\n",
    "a"
   ]
  },
  {
   "cell_type": "code",
   "execution_count": 126,
   "metadata": {},
   "outputs": [
    {
     "data": {
      "text/html": [
       "<div>\n",
       "<style scoped>\n",
       "    .dataframe tbody tr th:only-of-type {\n",
       "        vertical-align: middle;\n",
       "    }\n",
       "\n",
       "    .dataframe tbody tr th {\n",
       "        vertical-align: top;\n",
       "    }\n",
       "\n",
       "    .dataframe thead th {\n",
       "        text-align: right;\n",
       "    }\n",
       "</style>\n",
       "<table border=\"1\" class=\"dataframe\">\n",
       "  <thead>\n",
       "    <tr style=\"text-align: right;\">\n",
       "      <th></th>\n",
       "      <th>0</th>\n",
       "      <th>1</th>\n",
       "      <th>2</th>\n",
       "      <th>3</th>\n",
       "    </tr>\n",
       "  </thead>\n",
       "  <tbody>\n",
       "    <tr>\n",
       "      <th>19</th>\n",
       "      <td>埼玉県</td>\n",
       "      <td>鳩山</td>\n",
       "      <td>39.9</td>\n",
       "      <td>1997-07-05</td>\n",
       "    </tr>\n",
       "    <tr>\n",
       "      <th>20</th>\n",
       "      <td>大阪府</td>\n",
       "      <td>豊中</td>\n",
       "      <td>39.9</td>\n",
       "      <td>1994-08-08</td>\n",
       "    </tr>\n",
       "    <tr>\n",
       "      <th>21</th>\n",
       "      <td>山梨県</td>\n",
       "      <td>大月</td>\n",
       "      <td>39.9</td>\n",
       "      <td>1990-07-19</td>\n",
       "    </tr>\n",
       "    <tr>\n",
       "      <th>22</th>\n",
       "      <td>山形県</td>\n",
       "      <td>鶴岡</td>\n",
       "      <td>39.9</td>\n",
       "      <td>1978-08-03</td>\n",
       "    </tr>\n",
       "    <tr>\n",
       "      <th>23</th>\n",
       "      <td>愛知県</td>\n",
       "      <td>名古屋</td>\n",
       "      <td>39.9</td>\n",
       "      <td>1942-08-02</td>\n",
       "    </tr>\n",
       "  </tbody>\n",
       "</table>\n",
       "</div>"
      ],
      "text/plain": [
       "      0    1     2           3\n",
       "19  埼玉県   鳩山  39.9  1997-07-05\n",
       "20  大阪府   豊中  39.9  1994-08-08\n",
       "21  山梨県   大月  39.9  1990-07-19\n",
       "22  山形県   鶴岡  39.9  1978-08-03\n",
       "23  愛知県  名古屋  39.9  1942-08-02"
      ]
     },
     "execution_count": 126,
     "metadata": {},
     "output_type": "execute_result"
    }
   ],
   "source": [
    "#15\n",
    "a = data.iloc[-n:]\n",
    "a"
   ]
  },
  {
   "cell_type": "code",
   "execution_count": 136,
   "metadata": {},
   "outputs": [
    {
     "data": {
      "text/plain": [
       "[      0     1     2           3\n",
       " 0   高知県   江川崎  41.0  2013-08-12\n",
       " 1   埼玉県    熊谷  40.9  2007-08-16\n",
       " 2   岐阜県   多治見  40.9  2007-08-16\n",
       " 3   山形県    山形  40.8  1933-07-25\n",
       " 4   山梨県    甲府  40.7  2013-08-10\n",
       " 5  和歌山県  かつらぎ  40.6  1994-08-08\n",
       " 6   静岡県    天竜  40.6  1994-08-04\n",
       " 7   山梨県    勝沼  40.5  2013-08-10,\n",
       "       0    1     2           3\n",
       " 8   埼玉県   越谷  40.4  2007-08-16\n",
       " 9   群馬県   館林  40.3  2007-08-16\n",
       " 10  群馬県  上里見  40.3  1998-07-04\n",
       " 11  愛知県   愛西  40.3  1994-08-05\n",
       " 12  千葉県   牛久  40.2  2004-07-20\n",
       " 13  静岡県  佐久間  40.2  2001-07-24\n",
       " 14  愛媛県  宇和島  40.2  1927-07-22\n",
       " 15  山形県   酒田  40.1  1978-08-03,\n",
       "       0    1     2           3\n",
       " 16  岐阜県   美濃  40.0  2007-08-16\n",
       " 17  群馬県   前橋  40.0  2001-07-24\n",
       " 18  千葉県   茂原  39.9  2013-08-11\n",
       " 19  埼玉県   鳩山  39.9  1997-07-05\n",
       " 20  大阪府   豊中  39.9  1994-08-08\n",
       " 21  山梨県   大月  39.9  1990-07-19\n",
       " 22  山形県   鶴岡  39.9  1978-08-03\n",
       " 23  愛知県  名古屋  39.9  1942-08-02]"
      ]
     },
     "execution_count": 136,
     "metadata": {},
     "output_type": "execute_result"
    }
   ],
   "source": [
    "#16\n",
    "n = 3\n",
    "b = np.split(data,n)\n",
    "b"
   ]
  },
  {
   "cell_type": "code",
   "execution_count": 139,
   "metadata": {},
   "outputs": [
    {
     "data": {
      "text/plain": [
       "array(['高知県', '埼玉県', '岐阜県', '山形県', '山梨県', '和歌山県', '静岡県', '群馬県', '愛知県',\n",
       "       '千葉県', '愛媛県', '大阪府'], dtype=object)"
      ]
     },
     "execution_count": 139,
     "metadata": {},
     "output_type": "execute_result"
    }
   ],
   "source": [
    "#17\n",
    "pd.unique(data[0])"
   ]
  },
  {
   "cell_type": "code",
   "execution_count": 153,
   "metadata": {},
   "outputs": [
    {
     "data": {
      "text/html": [
       "<div>\n",
       "<style scoped>\n",
       "    .dataframe tbody tr th:only-of-type {\n",
       "        vertical-align: middle;\n",
       "    }\n",
       "\n",
       "    .dataframe tbody tr th {\n",
       "        vertical-align: top;\n",
       "    }\n",
       "\n",
       "    .dataframe thead th {\n",
       "        text-align: right;\n",
       "    }\n",
       "</style>\n",
       "<table border=\"1\" class=\"dataframe\">\n",
       "  <thead>\n",
       "    <tr style=\"text-align: right;\">\n",
       "      <th></th>\n",
       "      <th>0</th>\n",
       "      <th>1</th>\n",
       "      <th>2</th>\n",
       "      <th>3</th>\n",
       "    </tr>\n",
       "  </thead>\n",
       "  <tbody>\n",
       "    <tr>\n",
       "      <th>0</th>\n",
       "      <td>高知県</td>\n",
       "      <td>江川崎</td>\n",
       "      <td>41.0</td>\n",
       "      <td>2013-08-12</td>\n",
       "    </tr>\n",
       "    <tr>\n",
       "      <th>2</th>\n",
       "      <td>岐阜県</td>\n",
       "      <td>多治見</td>\n",
       "      <td>40.9</td>\n",
       "      <td>2007-08-16</td>\n",
       "    </tr>\n",
       "    <tr>\n",
       "      <th>1</th>\n",
       "      <td>埼玉県</td>\n",
       "      <td>熊谷</td>\n",
       "      <td>40.9</td>\n",
       "      <td>2007-08-16</td>\n",
       "    </tr>\n",
       "    <tr>\n",
       "      <th>3</th>\n",
       "      <td>山形県</td>\n",
       "      <td>山形</td>\n",
       "      <td>40.8</td>\n",
       "      <td>1933-07-25</td>\n",
       "    </tr>\n",
       "    <tr>\n",
       "      <th>4</th>\n",
       "      <td>山梨県</td>\n",
       "      <td>甲府</td>\n",
       "      <td>40.7</td>\n",
       "      <td>2013-08-10</td>\n",
       "    </tr>\n",
       "    <tr>\n",
       "      <th>5</th>\n",
       "      <td>和歌山県</td>\n",
       "      <td>かつらぎ</td>\n",
       "      <td>40.6</td>\n",
       "      <td>1994-08-08</td>\n",
       "    </tr>\n",
       "    <tr>\n",
       "      <th>6</th>\n",
       "      <td>静岡県</td>\n",
       "      <td>天竜</td>\n",
       "      <td>40.6</td>\n",
       "      <td>1994-08-04</td>\n",
       "    </tr>\n",
       "    <tr>\n",
       "      <th>7</th>\n",
       "      <td>山梨県</td>\n",
       "      <td>勝沼</td>\n",
       "      <td>40.5</td>\n",
       "      <td>2013-08-10</td>\n",
       "    </tr>\n",
       "    <tr>\n",
       "      <th>8</th>\n",
       "      <td>埼玉県</td>\n",
       "      <td>越谷</td>\n",
       "      <td>40.4</td>\n",
       "      <td>2007-08-16</td>\n",
       "    </tr>\n",
       "    <tr>\n",
       "      <th>9</th>\n",
       "      <td>群馬県</td>\n",
       "      <td>館林</td>\n",
       "      <td>40.3</td>\n",
       "      <td>2007-08-16</td>\n",
       "    </tr>\n",
       "    <tr>\n",
       "      <th>10</th>\n",
       "      <td>群馬県</td>\n",
       "      <td>上里見</td>\n",
       "      <td>40.3</td>\n",
       "      <td>1998-07-04</td>\n",
       "    </tr>\n",
       "    <tr>\n",
       "      <th>11</th>\n",
       "      <td>愛知県</td>\n",
       "      <td>愛西</td>\n",
       "      <td>40.3</td>\n",
       "      <td>1994-08-05</td>\n",
       "    </tr>\n",
       "    <tr>\n",
       "      <th>14</th>\n",
       "      <td>愛媛県</td>\n",
       "      <td>宇和島</td>\n",
       "      <td>40.2</td>\n",
       "      <td>1927-07-22</td>\n",
       "    </tr>\n",
       "    <tr>\n",
       "      <th>12</th>\n",
       "      <td>千葉県</td>\n",
       "      <td>牛久</td>\n",
       "      <td>40.2</td>\n",
       "      <td>2004-07-20</td>\n",
       "    </tr>\n",
       "    <tr>\n",
       "      <th>13</th>\n",
       "      <td>静岡県</td>\n",
       "      <td>佐久間</td>\n",
       "      <td>40.2</td>\n",
       "      <td>2001-07-24</td>\n",
       "    </tr>\n",
       "    <tr>\n",
       "      <th>15</th>\n",
       "      <td>山形県</td>\n",
       "      <td>酒田</td>\n",
       "      <td>40.1</td>\n",
       "      <td>1978-08-03</td>\n",
       "    </tr>\n",
       "    <tr>\n",
       "      <th>16</th>\n",
       "      <td>岐阜県</td>\n",
       "      <td>美濃</td>\n",
       "      <td>40.0</td>\n",
       "      <td>2007-08-16</td>\n",
       "    </tr>\n",
       "    <tr>\n",
       "      <th>17</th>\n",
       "      <td>群馬県</td>\n",
       "      <td>前橋</td>\n",
       "      <td>40.0</td>\n",
       "      <td>2001-07-24</td>\n",
       "    </tr>\n",
       "    <tr>\n",
       "      <th>18</th>\n",
       "      <td>千葉県</td>\n",
       "      <td>茂原</td>\n",
       "      <td>39.9</td>\n",
       "      <td>2013-08-11</td>\n",
       "    </tr>\n",
       "    <tr>\n",
       "      <th>19</th>\n",
       "      <td>埼玉県</td>\n",
       "      <td>鳩山</td>\n",
       "      <td>39.9</td>\n",
       "      <td>1997-07-05</td>\n",
       "    </tr>\n",
       "    <tr>\n",
       "      <th>20</th>\n",
       "      <td>大阪府</td>\n",
       "      <td>豊中</td>\n",
       "      <td>39.9</td>\n",
       "      <td>1994-08-08</td>\n",
       "    </tr>\n",
       "    <tr>\n",
       "      <th>21</th>\n",
       "      <td>山梨県</td>\n",
       "      <td>大月</td>\n",
       "      <td>39.9</td>\n",
       "      <td>1990-07-19</td>\n",
       "    </tr>\n",
       "    <tr>\n",
       "      <th>22</th>\n",
       "      <td>山形県</td>\n",
       "      <td>鶴岡</td>\n",
       "      <td>39.9</td>\n",
       "      <td>1978-08-03</td>\n",
       "    </tr>\n",
       "    <tr>\n",
       "      <th>23</th>\n",
       "      <td>愛知県</td>\n",
       "      <td>名古屋</td>\n",
       "      <td>39.9</td>\n",
       "      <td>1942-08-02</td>\n",
       "    </tr>\n",
       "  </tbody>\n",
       "</table>\n",
       "</div>"
      ],
      "text/plain": [
       "       0     1     2           3\n",
       "0    高知県   江川崎  41.0  2013-08-12\n",
       "2    岐阜県   多治見  40.9  2007-08-16\n",
       "1    埼玉県    熊谷  40.9  2007-08-16\n",
       "3    山形県    山形  40.8  1933-07-25\n",
       "4    山梨県    甲府  40.7  2013-08-10\n",
       "5   和歌山県  かつらぎ  40.6  1994-08-08\n",
       "6    静岡県    天竜  40.6  1994-08-04\n",
       "7    山梨県    勝沼  40.5  2013-08-10\n",
       "8    埼玉県    越谷  40.4  2007-08-16\n",
       "9    群馬県    館林  40.3  2007-08-16\n",
       "10   群馬県   上里見  40.3  1998-07-04\n",
       "11   愛知県    愛西  40.3  1994-08-05\n",
       "14   愛媛県   宇和島  40.2  1927-07-22\n",
       "12   千葉県    牛久  40.2  2004-07-20\n",
       "13   静岡県   佐久間  40.2  2001-07-24\n",
       "15   山形県    酒田  40.1  1978-08-03\n",
       "16   岐阜県    美濃  40.0  2007-08-16\n",
       "17   群馬県    前橋  40.0  2001-07-24\n",
       "18   千葉県    茂原  39.9  2013-08-11\n",
       "19   埼玉県    鳩山  39.9  1997-07-05\n",
       "20   大阪府    豊中  39.9  1994-08-08\n",
       "21   山梨県    大月  39.9  1990-07-19\n",
       "22   山形県    鶴岡  39.9  1978-08-03\n",
       "23   愛知県   名古屋  39.9  1942-08-02"
      ]
     },
     "execution_count": 153,
     "metadata": {},
     "output_type": "execute_result"
    }
   ],
   "source": [
    "#18\n",
    "data1 = data.sort_values(2,ascending=False)\n",
    "data1"
   ]
  },
  {
   "cell_type": "code",
   "execution_count": 158,
   "metadata": {},
   "outputs": [
    {
     "data": {
      "text/plain": [
       "埼玉県     3\n",
       "山形県     3\n",
       "群馬県     3\n",
       "山梨県     3\n",
       "岐阜県     2\n",
       "静岡県     2\n",
       "千葉県     2\n",
       "愛知県     2\n",
       "愛媛県     1\n",
       "和歌山県    1\n",
       "高知県     1\n",
       "大阪府     1\n",
       "Name: 0, dtype: int64"
      ]
     },
     "execution_count": 158,
     "metadata": {},
     "output_type": "execute_result"
    }
   ],
   "source": [
    "#19\n",
    "data[0].value_counts()"
   ]
  },
  {
   "cell_type": "code",
   "execution_count": 12,
   "metadata": {},
   "outputs": [],
   "source": [
    "import json\n",
    "import re"
   ]
  },
  {
   "cell_type": "code",
   "execution_count": 31,
   "metadata": {},
   "outputs": [],
   "source": [
    "#a = open('jawiki-country.json',)\n",
    "data = [json.loads(line) for line in open('jawiki-country.json', 'r')]"
   ]
  },
  {
   "cell_type": "code",
   "execution_count": 51,
   "metadata": {},
   "outputs": [],
   "source": [
    "#20\n",
    "for i in range(len(data)):\n",
    "    if data[i]['title'] == 'イギリス':\n",
    "        uk = data[i]"
   ]
  },
  {
   "cell_type": "code",
   "execution_count": 83,
   "metadata": {},
   "outputs": [
    {
     "data": {
      "text/plain": [
       "['[[Category:イギリス|*]]',\n",
       " '[[Category:英連邦王国|*]]',\n",
       " '[[Category:G8加盟国]]',\n",
       " '[[Category:欧州連合加盟国]]',\n",
       " '[[Category:海洋国家]]',\n",
       " '[[Category:君主国]]',\n",
       " '[[Category:島国|くれいとふりてん]]']"
      ]
     },
     "execution_count": 83,
     "metadata": {},
     "output_type": "execute_result"
    }
   ],
   "source": [
    "#21\n",
    "splits = uk['text'].split(sep='\\n')\n",
    "cats = uk['text'].split(sep='\\n')[-8:-1]\n",
    "cats"
   ]
  },
  {
   "cell_type": "code",
   "execution_count": 93,
   "metadata": {},
   "outputs": [
    {
     "data": {
      "text/plain": [
       "['イギリス', '英連邦王国', 'G8加盟国', '欧州連合加盟国', '海洋国家', '君主国', '島国']"
      ]
     },
     "execution_count": 93,
     "metadata": {},
     "output_type": "execute_result"
    }
   ],
   "source": [
    "#22\n",
    "catsplit = [c.split(':')[1].split(']')[0].split('|')[0] for c in cats]\n",
    "catsplit"
   ]
  },
  {
   "cell_type": "code",
   "execution_count": 303,
   "metadata": {},
   "outputs": [],
   "source": [
    "#23\n",
    "sectitle = []\n",
    "for a in splits:\n",
    "    if len(a) != 0:\n",
    "        if a[0] == a[-1] == '=':\n",
    "            if a[1] == '=':\n",
    "                if a[2] == '=':\n",
    "                    if a[3] == '=':\n",
    "                        sectitle.append([a.replace('=',''),4])\n",
    "                    else:\n",
    "                        sectitle.append([a.replace('=',''),3])\n",
    "                else:\n",
    "                    sectitle.append([a.replace('=',''),2])\n",
    "            else:\n",
    "                sectitle.append([a.replace('=',''),1])\n",
    "#sectitle"
   ]
  },
  {
   "cell_type": "code",
   "execution_count": 304,
   "metadata": {},
   "outputs": [],
   "source": [
    "#24\n",
    "nosplits = uk['text']\n",
    "ends = ['.PNG','.png','.svg','.SVG','.jpg','.JPG','jpeg','JPEG']\n",
    "beginnings = ['=','File:','ファイル:']\n",
    "filesansho = []\n",
    "for a in ends:\n",
    "    for b in beginnings:\n",
    "        #print(b,a)\n",
    "        #d = re.search('{}.*{}'.format(b,a),nosplits)\n",
    "        d = re.findall('{}[a-zA-Z0-9 ]*{}'.format(b,a),nosplits)\n",
    "        if d is None:\n",
    "                pass\n",
    "        else:\n",
    "            for e in d:\n",
    "                filesansho.append(e.split(b)[1])\n",
    "#filesansho"
   ]
  },
  {
   "cell_type": "code",
   "execution_count": 368,
   "metadata": {},
   "outputs": [
    {
     "data": {
      "text/plain": [
       "{'|略名 ': ' イギリス',\n",
       " '|日本語国名 ': ' グレートブリテン及び北アイルランド連合王国',\n",
       " '|公式国名 ': ' {{lang|en|United Kingdom of Great Britain and Northern Ireland}}<ref>英語以外での正式国名:<br/>',\n",
       " '|国旗画像 ': ' Flag of the United Kingdom.svg',\n",
       " '|国章画像 ': ' [[ファイル:Royal Coat of Arms of the United Kingdom.svg|85px|イギリスの国章]]',\n",
       " '|国章リンク ': ' （[[イギリスの国章|国章]]）',\n",
       " '|標語 ': ' {{lang|fr|Dieu et mon droit}}<br/>（[[フランス語]]:神と私の権利）',\n",
       " '|国歌 ': ' [[女王陛下万歳|神よ女王陛下を守り給え]]',\n",
       " '|位置画像 ': ' Location_UK_EU_Europe_001.svg',\n",
       " '|公用語 ': ' [[英語]]（事実上）',\n",
       " '|首都 ': ' [[ロンドン]]',\n",
       " '|最大都市 ': ' ロンドン',\n",
       " '|元首等肩書 ': ' [[イギリスの君主|女王]]',\n",
       " '|元首等氏名 ': ' [[エリザベス2世]]',\n",
       " '|首相等肩書 ': ' [[イギリスの首相|首相]]',\n",
       " '|首相等氏名 ': ' [[デーヴィッド・キャメロン]]',\n",
       " '|面積順位 ': ' 76',\n",
       " '|面積大きさ ': ' 1 E11',\n",
       " '|面積値 ': ' 244,820',\n",
       " '|水面積率 ': ' 1.3%',\n",
       " '|人口統計年 ': ' 2011',\n",
       " '|人口順位 ': ' 22',\n",
       " '|人口大きさ ': ' 1 E7',\n",
       " '|人口値 ': ' 63,181,775<ref>[http://esa.un.org/unpd/wpp/Excel-Data/population.htm United Nations Department of Economic and Social Affairs>Population Division>Data>Population>Total Population]</ref>',\n",
       " '|人口密度値 ': ' 246',\n",
       " '|GDP統計年元 ': ' 2012',\n",
       " '|GDP値元 ': ' 1兆5478億<ref name',\n",
       " '|GDP統計年MER ': ' 2012',\n",
       " '|GDP順位MER ': ' 5',\n",
       " '|GDP値MER ': ' 2兆4337億<ref name',\n",
       " '|GDP統計年 ': ' 2012',\n",
       " '|GDP順位 ': ' 6',\n",
       " '|GDP値 ': ' 2兆3162億<ref name',\n",
       " '|GDP/人 ': ' 36,727<ref name',\n",
       " '|建国形態 ': ' 建国',\n",
       " '|確立形態1 ': ' [[イングランド王国]]／[[スコットランド王国]]<br />（両国とも[[連合法 (1707年)|1707年連合法]]まで）',\n",
       " '|確立年月日1 ': ' [[927年]]／[[843年]]',\n",
       " '|確立形態2 ': ' [[グレートブリテン王国]]建国<br />（[[連合法 (1707年)|1707年連合法]]）',\n",
       " '|確立年月日2 ': ' [[1707年]]',\n",
       " '|確立形態3 ': ' [[グレートブリテン及びアイルランド連合王国]]建国<br />（[[連合法 (1800年)|1800年連合法]]）',\n",
       " '|確立年月日3 ': ' [[1801年]]',\n",
       " '|確立形態4 ': \" 現在の国号「'''グレートブリテン及び北アイルランド連合王国'''」に変更\",\n",
       " '|確立年月日4 ': ' [[1927年]]',\n",
       " '|通貨 ': ' [[スターリング・ポンド|UKポンド]] (&pound;)',\n",
       " '|通貨コード ': ' GBP',\n",
       " '|時間帯 ': ' ±0',\n",
       " '|夏時間 ': ' +1',\n",
       " '|ISO 3166-1 ': ' GB / GBR',\n",
       " '|ccTLD ': ' [[.uk]] / [[.gb]]<ref>使用は.ukに比べ圧倒的少数。</ref>',\n",
       " '|国際電話番号 ': ' 44',\n",
       " '|注記 ': ' <references />'}"
      ]
     },
     "execution_count": 368,
     "metadata": {},
     "output_type": "execute_result"
    }
   ],
   "source": [
    "#25\n",
    "kiso = splits[2:59]\n",
    "kisodic = {}\n",
    "for a in kiso:\n",
    "    a.strip(' \\' ')\n",
    "    if a[0] == '*':\n",
    "        pass\n",
    "    else:\n",
    "        b = a.split('=')\n",
    "        kisodic[b[0]] = b[1]\n",
    "kisodic"
   ]
  },
  {
   "cell_type": "code",
   "execution_count": 418,
   "metadata": {},
   "outputs": [
    {
     "data": {
      "text/plain": [
       "{'|略名 ': ' イギリス',\n",
       " '|日本語国名 ': ' グレートブリテン及び北アイルランド連合王国',\n",
       " '|公式国名 ': ' {{lang|en|United Kingdom of Great Britain and Northern Ireland}}<ref>英語以外での正式国名:<br/>',\n",
       " '|国旗画像 ': ' Flag of the United Kingdom.svg',\n",
       " '|国章画像 ': ' [[ファイル:Royal Coat of Arms of the United Kingdom.svg|85px|イギリスの国章]]',\n",
       " '|国章リンク ': ' （[[イギリスの国章|国章]]）',\n",
       " '|標語 ': ' {{lang|fr|Dieu et mon droit}}<br/>（[[フランス語]]:神と私の権利）',\n",
       " '|国歌 ': ' [[女王陛下万歳|神よ女王陛下を守り給え]]',\n",
       " '|位置画像 ': ' Location_UK_EU_Europe_001.svg',\n",
       " '|公用語 ': ' [[英語]]（事実上）',\n",
       " '|首都 ': ' [[ロンドン]]',\n",
       " '|最大都市 ': ' ロンドン',\n",
       " '|元首等肩書 ': ' [[イギリスの君主|女王]]',\n",
       " '|元首等氏名 ': ' [[エリザベス2世]]',\n",
       " '|首相等肩書 ': ' [[イギリスの首相|首相]]',\n",
       " '|首相等氏名 ': ' [[デーヴィッド・キャメロン]]',\n",
       " '|面積順位 ': ' 76',\n",
       " '|面積大きさ ': ' 1 E11',\n",
       " '|面積値 ': ' 244,820',\n",
       " '|水面積率 ': ' 1.3%',\n",
       " '|人口統計年 ': ' 2011',\n",
       " '|人口順位 ': ' 22',\n",
       " '|人口大きさ ': ' 1 E7',\n",
       " '|人口値 ': ' 63,181,775<ref>[http://esa.un.org/unpd/wpp/Excel-Data/population.htm United Nations Department of Economic and Social Affairs>Population Division>Data>Population>Total Population]</ref>',\n",
       " '|人口密度値 ': ' 246',\n",
       " '|GDP統計年元 ': ' 2012',\n",
       " '|GDP値元 ': ' 1兆5478億<ref name',\n",
       " '|GDP統計年MER ': ' 2012',\n",
       " '|GDP順位MER ': ' 5',\n",
       " '|GDP値MER ': ' 2兆4337億<ref name',\n",
       " '|GDP統計年 ': ' 2012',\n",
       " '|GDP順位 ': ' 6',\n",
       " '|GDP値 ': ' 2兆3162億<ref name',\n",
       " '|GDP/人 ': ' 36,727<ref name',\n",
       " '|建国形態 ': ' 建国',\n",
       " '|確立形態1 ': ' [[イングランド王国]]／[[スコットランド王国]]<br />（両国とも[[連合法 (1707年)|1707年連合法]]まで）',\n",
       " '|確立年月日1 ': ' [[927年]]／[[843年]]',\n",
       " '|確立形態2 ': ' [[グレートブリテン王国]]建国<br />（[[連合法 (1707年)|1707年連合法]]）',\n",
       " '|確立年月日2 ': ' [[1707年]]',\n",
       " '|確立形態3 ': ' [[グレートブリテン及びアイルランド連合王国]]建国<br />（[[連合法 (1800年)|1800年連合法]]）',\n",
       " '|確立年月日3 ': ' [[1801年]]',\n",
       " '|確立形態4 ': ' 現在の国号「グレートブリテン及び北アイルランド連合王国」に変更',\n",
       " '|確立年月日4 ': ' [[1927年]]',\n",
       " '|通貨 ': ' [[スターリング・ポンド|UKポンド]] (&pound;)',\n",
       " '|通貨コード ': ' GBP',\n",
       " '|時間帯 ': ' ±0',\n",
       " '|夏時間 ': ' +1',\n",
       " '|ISO 3166-1 ': ' GB / GBR',\n",
       " '|ccTLD ': ' [[.uk]] / [[.gb]]<ref>使用は.ukに比べ圧倒的少数。</ref>',\n",
       " '|国際電話番号 ': ' 44',\n",
       " '|注記 ': ' <references />'}"
      ]
     },
     "execution_count": 418,
     "metadata": {},
     "output_type": "execute_result"
    }
   ],
   "source": [
    "#26\n",
    "kiso = splits[2:59]\n",
    "kisodic = {}\n",
    "for a in kiso:\n",
    "    a = a.replace(\"'\",'')\n",
    "    a = re.sub('\\[.*\\]','',a)\n",
    "    if a[0] == '*':\n",
    "        pass\n",
    "    else:\n",
    "        b = a.split('=')\n",
    "        kisodic[b[0]] = b[1]\n",
    "kisodic"
   ]
  },
  {
   "cell_type": "code",
   "execution_count": 512,
   "metadata": {},
   "outputs": [
    {
     "data": {
      "text/plain": [
       "{'略名': 'イギリス',\n",
       " '日本語国名': 'グレートブリテン及び北アイルランド連合王国',\n",
       " '公式国名': 'lang|en|United Kingdom of Great Britain and Northern Ireland',\n",
       " '国旗画像': 'Flag of the United Kingdom.svg',\n",
       " '国章画像': 'ファイル:Royal Coat of Arms of the United Kingdom.svg|85px|イギリスの国章',\n",
       " '国章リンク': '（イギリスの国章|国章）',\n",
       " '標語': 'lang|fr|Dieu et mon droit（フランス語:神と私の権利）',\n",
       " '国歌': '女王陛下万歳|神よ女王陛下を守り給え',\n",
       " '位置画像': 'Location_UK_EU_Europe_001.svg',\n",
       " '公用語': '英語（事実上）',\n",
       " '首都': 'ロンドン',\n",
       " '最大都市': 'ロンドン',\n",
       " '元首等肩書': 'イギリスの君主|女王',\n",
       " '元首等氏名': 'エリザベス2世',\n",
       " '首相等肩書': 'イギリスの首相|首相',\n",
       " '首相等氏名': 'デーヴィッド・キャメロン',\n",
       " '面積順位': '76',\n",
       " '面積大きさ': '1 E11',\n",
       " '面積値': '244,820',\n",
       " '水面積率': '1.3%',\n",
       " '人口統計年': '2011',\n",
       " '人口順位': '22',\n",
       " '人口大きさ': '1 E7',\n",
       " '人口値': '63,181,775',\n",
       " '人口密度値': '246',\n",
       " 'GDP統計年元': '2012',\n",
       " 'GDP値元': '1兆5478億',\n",
       " 'GDP統計年MER': '2012',\n",
       " 'GDP順位MER': '5',\n",
       " 'GDP値MER': '2兆4337億',\n",
       " 'GDP統計年': '2012',\n",
       " 'GDP順位': '6',\n",
       " 'GDP値': '2兆3162億',\n",
       " 'GDP/人': '36,727',\n",
       " '建国形態': '建国',\n",
       " '確立形態1': 'イングランド王国／スコットランド王国（両国とも連合法 (1707年)|1707年連合法まで）',\n",
       " '確立年月日1': '927年／843年',\n",
       " '確立形態2': 'グレートブリテン王国建国（連合法 (1707年)|1707年連合法）',\n",
       " '確立年月日2': '1707年',\n",
       " '確立形態3': 'グレートブリテン及びアイルランド連合王国建国（連合法 (1800年)|1800年連合法）',\n",
       " '確立年月日3': '1801年',\n",
       " '確立形態4': '現在の国号「グレートブリテン及び北アイルランド連合王国」に変更',\n",
       " '確立年月日4': '1927年',\n",
       " '通貨': 'スターリング・ポンド|UKポンド (&pound;)',\n",
       " '通貨コード': 'GBP',\n",
       " '時間帯': '±0',\n",
       " '夏時間': '+1',\n",
       " 'ISO 3166-1': 'GB / GBR',\n",
       " 'ccTLD': '.uk / .gb',\n",
       " '国際電話番号': '44',\n",
       " '注記': ''}"
      ]
     },
     "execution_count": 512,
     "metadata": {},
     "output_type": "execute_result"
    }
   ],
   "source": [
    "#27, 28\n",
    "kiso = splits[2:59]\n",
    "kisodic = {}\n",
    "for a in kiso:\n",
    "    a = a.replace(\"'\",'')\n",
    "    a = re.sub('\\[https?:\\/\\/.*\\]','',a)\n",
    "    a = re.sub('\\[\\[|\\]\\]|\\{\\{|\\}\\}','',a)\n",
    "    a = re.sub('<br ?/>|</? ?ref.*>','',a)\n",
    "    #a = re.sub(r'\\|','',a)\n",
    "    #a = a.replace(\"|\",'')\n",
    "    if a[0] == '*':\n",
    "        pass\n",
    "    else:\n",
    "        b = a.split(' = ')\n",
    "        kisodic[b[0][1:]] = ''.join(b[1:])\n",
    "kisodic"
   ]
  },
  {
   "cell_type": "code",
   "execution_count": 549,
   "metadata": {},
   "outputs": [
    {
     "data": {
      "text/plain": [
       "'https://en.wikipedia.org/wiki/File:Flag_of_the_United_Kingdom.svg'"
      ]
     },
     "execution_count": 549,
     "metadata": {},
     "output_type": "execute_result"
    }
   ],
   "source": [
    "import requests\n",
    "S = requests.Session()\n",
    "URL = \"https://en.wikipedia.org/w/api.php\"\n",
    "PARAMS = {\n",
    "    \"action\":'query',\n",
    "    \"format\":\"json\",\n",
    "    \"prop\":'info',\n",
    "    'inprop':'url',\n",
    "    'titles':'File:{}'.format(kisodic['国旗画像'])\n",
    "}\n",
    "R = S.get(url=URL, params=PARAMS)\n",
    "DATA = R.json()\n",
    "\n",
    "PAGES = DATA[\"query\"][\"pages\"]\n",
    "for a in PAGES:\n",
    "    name = a\n",
    "DATA[\"query\"][\"pages\"][a]['fullurl']"
   ]
  },
  {
   "cell_type": "code",
   "execution_count": 1378,
   "metadata": {},
   "outputs": [],
   "source": [
    "#４章\n",
    "import MeCab\n",
    "neks = open('neko.txt')\n",
    "neko = neks.read()\n",
    "tagger = MeCab.Tagger()\n",
    "nekparse = tagger.parse(neko)"
   ]
  },
  {
   "cell_type": "code",
   "execution_count": 690,
   "metadata": {},
   "outputs": [
    {
     "data": {
      "text/plain": [
       "[{'表層型': '一', '基本形': 'イチ', '品詞': '名詞', '品詞細分類1': '数詞'},\n",
       " {'表層型': '\\u3000', '基本形': '', '品詞': '空白', '品詞細分類1': ''},\n",
       " {'表層型': '吾輩', '基本形': 'ワガハイ', '品詞': '代名詞', '品詞細分類1': ''},\n",
       " {'表層型': 'は', '基本形': 'ワ', '品詞': '助詞', '品詞細分類1': '係助詞'},\n",
       " {'表層型': '猫', '基本形': 'ネコ', '品詞': '名詞', '品詞細分類1': '普通名詞一般'}]"
      ]
     },
     "execution_count": 690,
     "metadata": {},
     "output_type": "execute_result"
    }
   ],
   "source": [
    "#30\n",
    "npsplit = nekparse.split('\\n')\n",
    "npfin = [a.split('\\t') for a in npsplit]\n",
    "neklist = []\n",
    "b = 0\n",
    "for a in npfin[:-2]:\n",
    "    #print(a)\n",
    "    dlist = {}\n",
    "    dlist['表層型'] = a[0]\n",
    "    dlist['基本形'] = a[1]\n",
    "    dlist['品詞'] = a[-4].split('-')[0]\n",
    "    if len(a[-4].split('-')) > 1:\n",
    "        dlist['品詞細分類1'] = ''.join(a[-4].split('-')[1:])\n",
    "    else:\n",
    "        dlist['品詞細分類1'] = ''\n",
    "    neklist.append(dlist)\n",
    "neklist[:5]"
   ]
  },
  {
   "cell_type": "code",
   "execution_count": 650,
   "metadata": {},
   "outputs": [
    {
     "data": {
      "text/plain": [
       "['ある', '生れ', 'つか', 'し', '泣い', 'い', 'し', 'いる', '始め', 'いう']"
      ]
     },
     "execution_count": 650,
     "metadata": {},
     "output_type": "execute_result"
    }
   ],
   "source": [
    "#31\n",
    "dlist = []\n",
    "for a in neklist:\n",
    "    if a['品詞'] == '動詞':\n",
    "        dlist.append(a['表層型'])\n",
    "dlist[0:10]"
   ]
  },
  {
   "cell_type": "code",
   "execution_count": 652,
   "metadata": {},
   "outputs": [
    {
     "data": {
      "text/plain": [
       "['アル', 'ウマレ', 'ツカ', 'シ', 'ナイ', 'イ', 'シ', 'イル', 'ハジメ', 'ユー']"
      ]
     },
     "execution_count": 652,
     "metadata": {},
     "output_type": "execute_result"
    }
   ],
   "source": [
    "#32\n",
    "dlistg = []\n",
    "for a in neklist:\n",
    "    if a['品詞'] == '動詞':\n",
    "        dlistg.append(a['基本形'])\n",
    "dlistg[0:10]"
   ]
  },
  {
   "cell_type": "code",
   "execution_count": 692,
   "metadata": {},
   "outputs": [
    {
     "data": {
      "text/plain": [
       "['記憶', 'もの', '話', 'もの', 'もの', '装飾', '突起', 'もの', '運転', '記憶']"
      ]
     },
     "execution_count": 692,
     "metadata": {},
     "output_type": "execute_result"
    }
   ],
   "source": [
    "#33\n",
    "sahen = []\n",
    "for a in neklist:\n",
    "    if a['品詞細分類1'] == '普通名詞サ変可能':\n",
    "        sahen.append(a['表層型'])\n",
    "sahen[0:10]"
   ]
  },
  {
   "cell_type": "code",
   "execution_count": 697,
   "metadata": {},
   "outputs": [
    {
     "data": {
      "text/plain": [
       "['掌の上', '書生の顔', 'ものの見', 'はずの顔', '顔の真中', '穴の中', '書生の掌', '掌の裏', '藁の上', '笹原の中']"
      ]
     },
     "execution_count": 697,
     "metadata": {},
     "output_type": "execute_result"
    }
   ],
   "source": [
    "#34\n",
    "mnom = []\n",
    "for i in range(len(neklist)-2):\n",
    "    if neklist[i]['品詞'] == '名詞':\n",
    "        if neklist[i+1]['表層型'] == 'の' and neklist[i+2]['品詞'] == '名詞':\n",
    "            mnom.append(''.join([neklist[i]['表層型'],neklist[i+1]['表層型'],neklist[i+2]['表層型']]))\n",
    "mnom[:10]"
   ]
  },
  {
   "cell_type": "code",
   "execution_count": 698,
   "metadata": {},
   "outputs": [
    {
     "name": "stdout",
     "output_type": "stream",
     "text": [
      "明治三十八年何月何日戸締り\n"
     ]
    }
   ],
   "source": [
    "#35\n",
    "counta = 0\n",
    "countb = 0\n",
    "i = 0\n",
    "lista = []\n",
    "listb = []\n",
    "while i < len(neklist):\n",
    "    if neklist[i]['品詞'] == '名詞':\n",
    "        lista.append(neklist[i]['表層型'])\n",
    "        i += 1\n",
    "        counta += 1\n",
    "    else:\n",
    "        if counta > countb:\n",
    "            countb = counta\n",
    "            listb = lista\n",
    "        i += 1\n",
    "        counta = 0\n",
    "        lista = []\n",
    "print(''.join(listb))"
   ]
  },
  {
   "cell_type": "code",
   "execution_count": 727,
   "metadata": {},
   "outputs": [
    {
     "data": {
      "text/plain": [
       "0     1   \n",
       "の     助詞      9543\n",
       "。     補助記号    7486\n",
       "て     助詞      7378\n",
       "、     補助記号    6773\n",
       "は     助詞      6500\n",
       "              ... \n",
       "引き越す  動詞         1\n",
       "引き較べ  動詞         1\n",
       "引き込ん  動詞         1\n",
       "引こう   動詞         1\n",
       "恨み    名詞         1\n",
       "Length: 14516, dtype: int64"
      ]
     },
     "execution_count": 727,
     "metadata": {},
     "output_type": "execute_result"
    }
   ],
   "source": [
    "#36\n",
    "import matplotlib.pyplot as plt\n",
    "import pandas as pd\n",
    "import numpy as np\n",
    "tango = [[a['表層型'],a['品詞']] for a in neklist]\n",
    "dft = pd.DataFrame(tango)\n",
    "dft.value_counts()"
   ]
  },
  {
   "cell_type": "code",
   "execution_count": 728,
   "metadata": {},
   "outputs": [
    {
     "data": {
      "text/plain": [
       "[<matplotlib.lines.Line2D at 0x16324eee0>]"
      ]
     },
     "execution_count": 728,
     "metadata": {},
     "output_type": "execute_result"
    },
    {
     "data": {
      "image/png": "[encoded data removed]",
      "text/plain": [
       "<Figure size 432x288 with 1 Axes>"
      ]
     },
     "metadata": {
      "needs_background": "light"
     },
     "output_type": "display_data"
    }
   ],
   "source": [
    "#37\n",
    "yval = list(dft.value_counts()[:10])\n",
    "xval = np.linspace(1,10,10)\n",
    "plt.plot(xval,yval)"
   ]
  },
  {
   "cell_type": "code",
   "execution_count": 746,
   "metadata": {},
   "outputs": [
    {
     "data": {
      "text/plain": [
       "(array([1.432e+04, 8.800e+01, 3.400e+01, 1.800e+01, 9.000e+00, 3.000e+00,\n",
       "        7.000e+00, 4.000e+00, 0.000e+00, 3.000e+00, 3.000e+00, 2.000e+00,\n",
       "        1.000e+00, 3.000e+00, 1.000e+00, 0.000e+00, 0.000e+00, 1.000e+00,\n",
       "        0.000e+00, 0.000e+00, 1.000e+00, 1.000e+00, 0.000e+00, 1.000e+00,\n",
       "        0.000e+00, 1.000e+00, 1.000e+00, 0.000e+00, 1.000e+00, 0.000e+00,\n",
       "        0.000e+00, 0.000e+00, 0.000e+00, 3.000e+00, 0.000e+00, 0.000e+00,\n",
       "        0.000e+00, 0.000e+00, 0.000e+00, 0.000e+00, 0.000e+00, 1.000e+00,\n",
       "        0.000e+00, 0.000e+00, 0.000e+00, 0.000e+00, 0.000e+00, 0.000e+00,\n",
       "        0.000e+00, 0.000e+00, 0.000e+00, 0.000e+00, 0.000e+00, 0.000e+00,\n",
       "        0.000e+00, 0.000e+00, 1.000e+00, 0.000e+00, 0.000e+00, 1.000e+00,\n",
       "        0.000e+00, 0.000e+00, 0.000e+00, 0.000e+00, 2.000e+00, 0.000e+00,\n",
       "        0.000e+00, 0.000e+00, 1.000e+00, 0.000e+00, 1.000e+00, 0.000e+00,\n",
       "        0.000e+00, 0.000e+00, 0.000e+00, 0.000e+00, 0.000e+00, 1.000e+00,\n",
       "        1.000e+00, 0.000e+00, 0.000e+00, 0.000e+00, 0.000e+00, 0.000e+00,\n",
       "        0.000e+00, 0.000e+00, 0.000e+00, 0.000e+00, 0.000e+00, 0.000e+00,\n",
       "        0.000e+00, 0.000e+00, 0.000e+00, 0.000e+00, 0.000e+00, 0.000e+00,\n",
       "        0.000e+00, 0.000e+00, 0.000e+00, 1.000e+00]),\n",
       " array([1.00000e+00, 9.64200e+01, 1.91840e+02, 2.87260e+02, 3.82680e+02,\n",
       "        4.78100e+02, 5.73520e+02, 6.68940e+02, 7.64360e+02, 8.59780e+02,\n",
       "        9.55200e+02, 1.05062e+03, 1.14604e+03, 1.24146e+03, 1.33688e+03,\n",
       "        1.43230e+03, 1.52772e+03, 1.62314e+03, 1.71856e+03, 1.81398e+03,\n",
       "        1.90940e+03, 2.00482e+03, 2.10024e+03, 2.19566e+03, 2.29108e+03,\n",
       "        2.38650e+03, 2.48192e+03, 2.57734e+03, 2.67276e+03, 2.76818e+03,\n",
       "        2.86360e+03, 2.95902e+03, 3.05444e+03, 3.14986e+03, 3.24528e+03,\n",
       "        3.34070e+03, 3.43612e+03, 3.53154e+03, 3.62696e+03, 3.72238e+03,\n",
       "        3.81780e+03, 3.91322e+03, 4.00864e+03, 4.10406e+03, 4.19948e+03,\n",
       "        4.29490e+03, 4.39032e+03, 4.48574e+03, 4.58116e+03, 4.67658e+03,\n",
       "        4.77200e+03, 4.86742e+03, 4.96284e+03, 5.05826e+03, 5.15368e+03,\n",
       "        5.24910e+03, 5.34452e+03, 5.43994e+03, 5.53536e+03, 5.63078e+03,\n",
       "        5.72620e+03, 5.82162e+03, 5.91704e+03, 6.01246e+03, 6.10788e+03,\n",
       "        6.20330e+03, 6.29872e+03, 6.39414e+03, 6.48956e+03, 6.58498e+03,\n",
       "        6.68040e+03, 6.77582e+03, 6.87124e+03, 6.96666e+03, 7.06208e+03,\n",
       "        7.15750e+03, 7.25292e+03, 7.34834e+03, 7.44376e+03, 7.53918e+03,\n",
       "        7.63460e+03, 7.73002e+03, 7.82544e+03, 7.92086e+03, 8.01628e+03,\n",
       "        8.11170e+03, 8.20712e+03, 8.30254e+03, 8.39796e+03, 8.49338e+03,\n",
       "        8.58880e+03, 8.68422e+03, 8.77964e+03, 8.87506e+03, 8.97048e+03,\n",
       "        9.06590e+03, 9.16132e+03, 9.25674e+03, 9.35216e+03, 9.44758e+03,\n",
       "        9.54300e+03]),\n",
       " <BarContainer object of 100 artists>)"
      ]
     },
     "execution_count": 746,
     "metadata": {},
     "output_type": "execute_result"
    },
    {
     "data": {
      "image/png": "[encoded data removed]",
      "text/plain": [
       "<Figure size 432x288 with 1 Axes>"
      ]
     },
     "metadata": {
      "needs_background": "light"
     },
     "output_type": "display_data"
    }
   ],
   "source": [
    "#38\n",
    "from collections import defaultdict\n",
    "yval = list(dft.value_counts())\n",
    "xval = np.linspace(1,len(yval),len(yval))\n",
    "plt.hist(yval,bins=100)"
   ]
  },
  {
   "cell_type": "code",
   "execution_count": 771,
   "metadata": {},
   "outputs": [
    {
     "data": {
      "image/png": "[encoded data removed]",
      "text/plain": [
       "<Figure size 432x288 with 1 Axes>"
      ]
     },
     "metadata": {
      "needs_background": "light"
     },
     "output_type": "display_data"
    }
   ],
   "source": [
    "#39\n",
    "yval = np.asarray(yval)\n",
    "plt.plot(xval,yval/yval[0])\n",
    "def ovx(x):\n",
    "    return 1/x\n",
    "plt.plot(xval,ovx(xval))\n",
    "plt.yscale('log')\n",
    "plt.xscale('log')"
   ]
  },
  {
   "cell_type": "code",
   "execution_count": 588,
   "metadata": {},
   "outputs": [],
   "source": [
    "import CaboCha\n",
    "parser = CaboCha.Parser()\n",
    "aija = open('ai.ja.txt')\n",
    "aijatxt = aija.read()\n",
    "ajtp = parser.parse(aijatxt)\n",
    "import numpy as np"
   ]
  },
  {
   "cell_type": "code",
   "execution_count": 3,
   "metadata": {},
   "outputs": [
    {
     "data": {
      "text/plain": [
       "'人工知能（じんこうちのう、、AI〈エーアイ〉）とは、「『計算（）』という概念と『コンピュータ（）』という道具を用いて『知能』を研究する計算機科学（）の一分野」を指す語'"
      ]
     },
     "execution_count": 3,
     "metadata": {},
     "output_type": "execute_result"
    }
   ],
   "source": [
    "#40\n",
    "class Morph:\n",
    "    def __init__(self,word):\n",
    "        a = word.split(',')\n",
    "        #print(a)\n",
    "        self.surface = a[0].split('\\t')[0]\n",
    "        self.base = a[-3]\n",
    "        self.pos = a[0].split('\\t')[1]\n",
    "        self.pos1 = a[1]\n",
    "\n",
    "ajtsp = aijatxt.split('\\n')\n",
    "ajtss = [a.split('。') for a in ajtsp]\n",
    "a = [paragraph for paragraph in ajtss]\n",
    "def morphing(sentence):\n",
    "    f = []\n",
    "    c = parser.parse(sentence).toString(CaboCha.FORMAT_LATTICE).split('\\n')\n",
    "    for d in c:\n",
    "        if d == 'EOS':\n",
    "            pass\n",
    "        elif d == '':\n",
    "            pass\n",
    "        elif d[0] != '*':\n",
    "            f.append(Morph(d))\n",
    "    return f\n",
    "mlist = []\n",
    "for b in a:\n",
    "    mlist.append(morphing(b[0]))\n",
    "''.join([m.surface for m in mlist[2]])"
   ]
  },
  {
   "cell_type": "code",
   "execution_count": 100,
   "metadata": {},
   "outputs": [],
   "source": [
    "#41\n",
    "class Chunk:\n",
    "    def __init__(self,morph1,index):\n",
    "        self.index = index\n",
    "        self.morph = morph1\n",
    "        self.dst = []\n",
    "        self.srcs = []\n",
    "    def morph(self):\n",
    "        return self.morph\n",
    "    def words(self):\n",
    "        return ''.join([m.surface for m in self.morph])\n",
    "    def indx(self):\n",
    "        return self.index\n",
    "    def mupdate(self,molist):\n",
    "        self.morph = molist\n",
    "    def udstadd(self,udst):\n",
    "        self.dst.append(udst)\n",
    "    def srcsupdate(self,usrcs):\n",
    "        self.srcs.append(usrcs)\n",
    "    def show(self):\n",
    "        print(''.join([m.surface for m in self.morph]),'\\t','dst{}'.format(self.dst),'\\t','srcs{}'.format(self.srcs[0]))\n",
    "    def show2(self):\n",
    "        return ''.join([m.surface for m in self.morph]),'\\t','dst{}'.format(self.dst),'\\t','srcs{}'.format(self.srcs[0])\n",
    "\n",
    "def chunking(sentence,show = False):\n",
    "    c = parser.parse(sentence).toString(CaboCha.FORMAT_LATTICE).split('\\n')\n",
    "    d = []\n",
    "    g = []\n",
    "    for i in range(len(c)-2):\n",
    "        if c[i][0] == '*':\n",
    "            d.append(i)\n",
    "    d.append(len(c) - 2)\n",
    "    chunklen = len(d) \n",
    "    kakari = [[] for _ in range(chunklen - 1)]\n",
    "    for i in range(chunklen - 1):\n",
    "        #print(c[d[i]])\n",
    "        x = int(c[d[i]].split(' ')[2][:-1])\n",
    "        #print(x)\n",
    "        kakari[x].append(i+1)\n",
    "    for i in range(chunklen - 1):\n",
    "        mulist = [Morph(e) for e in c[d[i]+1:d[i+1]]]\n",
    "        #print(d[i],d[i]-1)\n",
    "        chunky = Chunk(mulist,i+1)\n",
    "        chunky.udstadd(c[d[i]].split(' ')[2][:-1])\n",
    "        chunky.srcsupdate(kakari[i])\n",
    "        if show == True:\n",
    "            g.append(chunky)\n",
    "    return g\n",
    "\n",
    "ajtsp = aijatxt.split('\\n')\n",
    "ajtss = [a.split('。') for a in ajtsp]\n",
    "ajtss.remove([''])\n",
    "a = [paragraph for paragraph in ajtss]\n",
    "for b in a:\n",
    "    for f in b:\n",
    "        chunking(f,True)\n",
    "        #print('。')\n",
    "    #print('\\n')\n",
    "        \n",
    "#z = parser.parse(a[2][0]).toString(CaboCha.FORMAT_LATTICE).split('\\n')       "
   ]
  },
  {
   "cell_type": "code",
   "execution_count": 824,
   "metadata": {},
   "outputs": [
    {
     "data": {
      "text/plain": [
       "['人工知能（じんこうちのう、、AI〈エーアイ〉）とは、「『計算（）』という概念と『コンピュータ（）』という道具を用いて『知能』を研究する計算機科学（）の一分野」を指す語',\n",
       " '「言語の理解や推論、問題解決などの知的行動を人間に代わってコンピューターに行わせる技術」、または、「計算機（コンピュータ）による知的な情報処理システムの設計や実現に関する研究分野」ともされる']"
      ]
     },
     "execution_count": 824,
     "metadata": {},
     "output_type": "execute_result"
    }
   ],
   "source": [
    "ajss"
   ]
  },
  {
   "cell_type": "code",
   "execution_count": 829,
   "metadata": {},
   "outputs": [
    {
     "data": {
      "text/plain": [
       "['人工知能とは、「『計算』という概念と『コンピュータ』という道具を用いて『知能』を研究する計算機科学の一分野」を指す語',\n",
       " '「言語の理解や推論、問題解決などの知的行動を人間に代わってコンピューターに行わせる技術」、または、「計算機による知的な情報処理システムの設計や実現に関する研究分野」ともされる']"
      ]
     },
     "execution_count": 829,
     "metadata": {},
     "output_type": "execute_result"
    }
   ],
   "source": [
    "najtss[1]"
   ]
  },
  {
   "cell_type": "code",
   "execution_count": 830,
   "metadata": {
    "scrolled": false
   },
   "outputs": [],
   "source": [
    "#42\n",
    "ajtsp = aijatxt.split('\\n')\n",
    "ajtss = [a.split('。') for a in ajtsp]\n",
    "ajtss.remove([''])\n",
    "najtss = []\n",
    "for pp in ajtss:\n",
    "    naj = []\n",
    "    for pp1 in pp[:-1]:\n",
    "        naj.append(re.sub('（.*?）','',pp1))\n",
    "    najtss.append(naj)\n",
    "ajtss = najtss\n",
    "a = [paragraph for paragraph in ajtss]\n",
    "chl = []\n",
    "for b in a:\n",
    "    for f in b:\n",
    "        chl.append(chunking(f,True))\n",
    "\n",
    "kaklist = []\n",
    "for b in chl:\n",
    "    j = []\n",
    "    for i in range(len(b)):\n",
    "        c = int(b[i].dst[0])\n",
    "        j.append([''.join([''.join([m.surface for m in b[i].morph]),'\\t',''.join([m.surface for m in b[c].morph])])])\n",
    "    kaklist.append(j)\n",
    "#kaklist[1][0]"
   ]
  },
  {
   "cell_type": "code",
   "execution_count": 831,
   "metadata": {},
   "outputs": [
    {
     "data": {
      "text/plain": [
       "[['アプローチとしては、\\t知られているが、'], ['アプローチも\\t知られているが、'], ['差は\\tある'], ['記号的明示性に\\tある']]"
      ]
     },
     "execution_count": 831,
     "metadata": {},
     "output_type": "execute_result"
    }
   ],
   "source": [
    "#43\n",
    "dmlist = []\n",
    "for b in chl:\n",
    "    h = []\n",
    "    q = []\n",
    "    for i in range(len(b)):\n",
    "        c = int(b[i].dst[0])\n",
    "        j = [m.pos for m in b[i].morph]\n",
    "        k = [m.pos for m in b[c].morph]\n",
    "        if '名詞' in j:\n",
    "            if '動詞' in k:\n",
    "                q.append([''.join([''.join([m.surface for m in b[i].morph]),'\\t',''.join([m.surface for m in b[c].morph])])])\n",
    "        elif '動詞' in j:\n",
    "            if '名詞' in k:\n",
    "                q.append([''.join([''.join([m.surface for m in b[i].morph]),'\\t',''.join([m.surface for m in b[c].morph])])])\n",
    "    dmlist.append(q)\n",
    "dmlist[9]"
   ]
  },
  {
   "cell_type": "code",
   "execution_count": 832,
   "metadata": {},
   "outputs": [],
   "source": [
    "#44\n",
    "import graphviz as gp\n",
    "import pydot\n",
    "kaklist[1]\n",
    "mnlist = []\n",
    "for m in chl[1]:\n",
    "    nmlist = []\n",
    "    for n in m.morph:\n",
    "        nmlist.append(n.surface)\n",
    "    mnlist.append(nmlist)\n",
    "chklist1 = [''.join(m) for m in mnlist]\n",
    "chkdict = {}\n",
    "chklist = []\n",
    "for ii in range(len(chklist1)):\n",
    "    chklist.append([ii+1,chklist1[ii]])\n",
    "    chkdict[chklist1[ii]] = ii+1\n",
    "kaklist11 = []\n",
    "for ii in kaklist[1]:\n",
    "    iii = ii[0].split('\\t')\n",
    "    kaklist11.append([(chkdict[m],m) for m in iii])\n",
    "graph = pydot.graph_from_edges(kaklist11, directed=True)"
   ]
  },
  {
   "cell_type": "code",
   "execution_count": 17,
   "metadata": {},
   "outputs": [],
   "source": [
    "#45\n",
    "kakupattern = []\n",
    "for b in chl:\n",
    "    for i in range(len(b)):\n",
    "        j = [m.pos for m in b[i].morph] #doushisagashi\n",
    "        c = b[i].srcs[0] #kakarisagashi\n",
    "        joshi = [] #joshistore\n",
    "        if j[0] == '動詞':\n",
    "            for s in c:\n",
    "                v = [m.pos for m in b[s-1].morph]\n",
    "                for k in range(len(v)):\n",
    "                    if v[k] == '助詞':\n",
    "                        joshi.append(b[s-1].morph[k].base.strip('、'))\n",
    "                joshi.sort()\n",
    "            doushi = b[i].morph[0].base\n",
    "            kakupattern.append('{}\\t{}'.format(doushi,' '.join(joshi)))\n",
    "kakufile = open('KakuOutput.txt','w')\n",
    "for x in kakupattern:\n",
    "    kakufile.write('{}\\n'.format(x))\n",
    "kakufile.close()\n",
    "#unixを使った結果\n",
    "#   9 よる       に\n",
    "#   8 行う       を\n",
    "#   6 基づく     に\n",
    "#   6 呼ぶ       と\n",
    "#   5 する       と"
   ]
  },
  {
   "cell_type": "code",
   "execution_count": 833,
   "metadata": {},
   "outputs": [],
   "source": [
    "#mcauthur test\n",
    "mctest = 'ジョン・マッカーシーはAIに関する最初の会議で人工知能という用語を作り出した。'\n",
    "mct = chunking(mctest,True)\n",
    "mctpat = []\n",
    "for i in range(len(mct)):\n",
    "    j = [m.pos for m in mct[i].morph] #doushisagashi\n",
    "    c = mct[i].srcs[0] #kakarisagashi\n",
    "    joshi = [] #joshistore\n",
    "    if j[0] == '動詞':\n",
    "        for s in c:\n",
    "            v = [m.pos for m in mct[s-1].morph]\n",
    "            for k in range(len(v)):\n",
    "                if v[k] == '助詞':\n",
    "                    joshi.append(mct[s-1].morph[k].base.strip('、'))\n",
    "            joshi.sort()\n",
    "        doushi = mct[i].morph[0].base\n",
    "        mctpat.append('{}\\t{}'.format(doushi,' '.join(joshi)))"
   ]
  },
  {
   "cell_type": "code",
   "execution_count": 834,
   "metadata": {},
   "outputs": [
    {
     "data": {
      "text/plain": [
       "['用いる\\tを 道具を',\n",
       " '指す\\tを 一分野」を',\n",
       " '代わる\\tに を 人間に 知的行動を',\n",
       " '行う\\tて に 代わって コンピューターに',\n",
       " 'する\\tと も 研究分野」とも 研究分野」とも']"
      ]
     },
     "execution_count": 834,
     "metadata": {},
     "output_type": "execute_result"
    }
   ],
   "source": [
    "#46\n",
    "kakupattern2 = []\n",
    "for b in chl:\n",
    "    for i in range(len(b)):\n",
    "        j = [m.pos for m in b[i].morph] #doushisagashi\n",
    "        c = b[i].srcs[0] #kakarisagashi\n",
    "        joshi = [] #joshistore\n",
    "        kou = {} #koustore\n",
    "        if j[0] == '動詞':\n",
    "            for s in c:\n",
    "                v = [m.pos for m in b[s-1].morph]\n",
    "                w = ''.join([m.surface for m in b[s-1].morph])\n",
    "                #print(w)\n",
    "                for k in range(len(v)):\n",
    "                    if v[k] == '助詞':\n",
    "                        joshi.append(b[s-1].morph[k].base.strip('、'))\n",
    "                        kou[b[s-1].morph[k].base.strip('、')] = w\n",
    "                joshi.sort()\n",
    "                newkou = [kou[j] for j in joshi]\n",
    "            doushi = b[i].morph[0].base\n",
    "            kakupattern2.append('{}\\t{} {}'.format(doushi,' '.join(joshi),' '.join(newkou)))\n",
    "#kakufile2 = open('KakuOutput2.txt','w')\n",
    "#for x in kakupattern2:\n",
    "    #kakufile2.write('{}\\n'.format(x))\n",
    "#kakufile2.close()\n",
    "kakupattern2[:5]"
   ]
  },
  {
   "cell_type": "code",
   "execution_count": 835,
   "metadata": {},
   "outputs": [
    {
     "data": {
      "text/plain": [
       "['作り出す\\tで は を 会議で ジョン・マッカーシーは 用語を']"
      ]
     },
     "execution_count": 835,
     "metadata": {},
     "output_type": "execute_result"
    }
   ],
   "source": [
    "#mcauthur test 2\n",
    "mctest = 'ジョン・マッカーシーはAIに関する最初の会議で人工知能という用語を作り出した。'\n",
    "mct = chunking(mctest,True)\n",
    "mctpat2 = []\n",
    "for i in range(len(mct)):\n",
    "    j = [m.pos for m in mct[i].morph] #doushisagashi\n",
    "    c = mct[i].srcs[0] #kakarisagashi\n",
    "    joshi = [] #joshistore\n",
    "    kakud = {} #kakustore\n",
    "    if j[0] == '動詞':\n",
    "        for s in c:\n",
    "            v = [m.pos for m in mct[s-1].morph]\n",
    "            w = ''.join([m.surface for m in mct[s-1].morph])\n",
    "            for k in range(len(v)):\n",
    "                if v[k] == '助詞':\n",
    "                    joshi.append(mct[s-1].morph[k].base.strip('、'))\n",
    "                    kakud[mct[s-1].morph[k].base.strip('、')] = w\n",
    "            joshi.sort()\n",
    "            newkkd = [kakud[j] for j in joshi]\n",
    "        doushi = mct[i].morph[0].base\n",
    "        mctpat2.append('{}\\t{} {}'.format(doushi,' '.join(joshi),' '.join(newkkd)))\n",
    "mctpat2"
   ]
  },
  {
   "cell_type": "code",
   "execution_count": null,
   "metadata": {},
   "outputs": [],
   "source": []
  },
  {
   "cell_type": "code",
   "execution_count": 980,
   "metadata": {},
   "outputs": [
    {
     "data": {
      "text/plain": [
       "[['ジョン・マッカーシーは', '作り出した'],\n",
       " ['AIに関する', '最初の', '会議で', '作り出した'],\n",
       " ['最初の', '会議で', '作り出した'],\n",
       " ['会議で', '作り出した'],\n",
       " ['人工知能という', '用語を', '作り出した'],\n",
       " ['用語を', '作り出した']]"
      ]
     },
     "execution_count": 980,
     "metadata": {},
     "output_type": "execute_result"
    }
   ],
   "source": [
    "tst = 'ジョン・マッカーシーはAIに関する最初の会議で人工知能という用語を作り出した'\n",
    "tesuto = mct\n",
    "#chl[0]\n",
    "mnm = []\n",
    "bigpat = []\n",
    "for i in tesuto:\n",
    "    mnm.append([i.indx(),i.dst,i.srcs[0]])\n",
    "pfn = []\n",
    "for i in range(0,len(mnm)):\n",
    "    if '名詞' in [m.pos for m in tesuto[i].morph]:\n",
    "        path = []\n",
    "        path.append(tesuto[i].words())\n",
    "        b = int(mnm[i][1][0])\n",
    "        c =2\n",
    "        if mnm[b][0] == mnm[-1][0]:\n",
    "            path.append(tesuto[b].words())\n",
    "        elif mnm[b][0] < mnm[-1][0]:\n",
    "            c = 0\n",
    "        while c < 1:\n",
    "            if mnm[b][0] == mnm[-1][0]:\n",
    "                path.append(tesuto[b].words())\n",
    "                c += 2\n",
    "            else:\n",
    "                path.append(tesuto[b].words())\n",
    "                b = int(mnm[b][1][0])\n",
    "        bigpat.append(path)\n",
    "bigpat"
   ]
  },
  {
   "cell_type": "code",
   "execution_count": 985,
   "metadata": {},
   "outputs": [],
   "source": [
    "#48\n",
    "pathfin2 = []\n",
    "pathfin4 = []\n",
    "for c in chl:\n",
    "    mnm = []\n",
    "    bigpat = []\n",
    "    for i in c:\n",
    "        mnm.append([i.indx(),i.dst,i.srcs[0]])\n",
    "    pfn = []\n",
    "    for i in range(0,len(mnm)):\n",
    "        if '名詞' in [m.pos for m in c[i].morph]:\n",
    "            path = []\n",
    "            path.append(c[i].words())\n",
    "            b = int(mnm[i][1][0])\n",
    "            d =2\n",
    "            if mnm[b][0] == mnm[-1][0]:\n",
    "                path.append(c[b].words())\n",
    "            elif mnm[b][0] < mnm[-1][0]:\n",
    "                d = 0\n",
    "            while d < 1:\n",
    "                if mnm[b][0] == mnm[-1][0]:\n",
    "                    path.append(c[b].words())\n",
    "                    d += 2\n",
    "                else:\n",
    "                    path.append(c[b].words())\n",
    "                    b = int(mnm[b][1][0])\n",
    "            bigpat.append(path)\n",
    "    pathfin4.append(bigpat)"
   ]
  },
  {
   "cell_type": "code",
   "execution_count": 837,
   "metadata": {},
   "outputs": [
    {
     "data": {
      "text/plain": [
       "['ジョン・マッカーシーは -> 作り出した',\n",
       " 'AIに関する -> 最初の -> 会議で -> 作り出した',\n",
       " '最初の -> 会議で -> 作り出した',\n",
       " '会議で -> 作り出した',\n",
       " '人工知能という -> 用語を -> 作り出した',\n",
       " '用語を -> 作り出した']"
      ]
     },
     "execution_count": 837,
     "metadata": {},
     "output_type": "execute_result"
    }
   ],
   "source": [
    "#48 test\n",
    "mctest = 'ジョン・マッカーシーはAIに関する最初の会議で人工知能という用語を作り出した'\n",
    "mct = chunking(mctest,True)\n",
    "meinum = []\n",
    "for i in mct:\n",
    "    chkdict2[i.show2()[0]] = i.indx()\n",
    "    meinum.append([i.indx(),i.dst,i.srcs[0]])\n",
    "pathfin = []\n",
    "pathfin3 = []\n",
    "for i in range(len(meinum)):\n",
    "    if '名詞' in [m.pos for m in mct[i].morph]:\n",
    "        path = []\n",
    "        path.append(mct[i].words())\n",
    "        a = int(meinum[i][1][0]) \n",
    "        path.append(mct[a].words())\n",
    "        b = int(meinum[a-1][1][0])\n",
    "        while b+1 < meinum[-1][0]:\n",
    "            b = int(meinum[b][1][0])\n",
    "            path.append(mct[b].words())\n",
    "        pathfin.append(' -> '.join(path))\n",
    "        pathfin3.append(path)\n",
    "pathfin"
   ]
  },
  {
   "cell_type": "code",
   "execution_count": 995,
   "metadata": {},
   "outputs": [],
   "source": [
    "#49\n",
    "biggy = []\n",
    "ekkusu = []\n",
    "for chll in range(len(chl)):\n",
    "    pf4 = pathfin4\n",
    "    meinum3 = []\n",
    "    middly = []\n",
    "    keep = chl[chll]\n",
    "    for b in range(len(chl[chll])):\n",
    "        if '名詞' in [m.pos for m in chl[chll][b].morph]:\n",
    "            meinum3.append(b)\n",
    "    meipair = [[b,c] for b in meinum3 for c in meinum3 if b<c ]\n",
    "    for aaa in meipair:\n",
    "        bh = []\n",
    "        bh0 = []\n",
    "        keep = pf4[chll]\n",
    "        for a in pf4[chll]:\n",
    "            #print(chl[chll+1][aaa[0]].words())\n",
    "            if chl[chll][aaa[0]].words() in a:\n",
    "                bh.append(a)\n",
    "            if chl[chll][aaa[1]].words() in a:\n",
    "                bh0.append(a)\n",
    "        bh2 = [1,2,3,4,5,6,7,9,10,11,2312,123,11,1,11,1,1,1,1,1,1,1,1]\n",
    "        for a in bh:\n",
    "            if len(a) < len(bh2):\n",
    "                bh2 = a\n",
    "        bh3 = [1,2,3,4,5,6,7,9,10,11,2312,123,11,1,11,1,1,1,1,1,1,1,1]\n",
    "        for a in bh0:\n",
    "            if len(a) < len(bh3):\n",
    "                bh3 = a\n",
    "        c = []\n",
    "        d = []\n",
    "        e = []\n",
    "        f = []\n",
    "        ex = ''.join(xify(bh2[0],'X'))\n",
    "        if ex == '':\n",
    "            ex = ''.join(xify(bh2[1],'X'))\n",
    "        wai = ''.join(xify(bh3[0],'Y'))\n",
    "        direct = False\n",
    "        for a in bh2:\n",
    "            if a == bh3[0]:\n",
    "                d.append(c+[a])\n",
    "                direct = True\n",
    "            else:\n",
    "                c.append(a)\n",
    "                if a in bh3[1:]:\n",
    "                    e.append(a)\n",
    "        for a in bh3[1:]:\n",
    "            if a not in bh2[1:]:\n",
    "                f.append(a)\n",
    "        if direct == True:\n",
    "            middly.append('{}'.format(' -> '.join([ex]+d[0][1:-1]+[wai])))\n",
    "        else:\n",
    "            middly.append('{} | {} | {}'.format(ex,' -> '.join([wai]+f),e[0]))\n",
    "    biggy.append(middly)"
   ]
  },
  {
   "cell_type": "code",
   "execution_count": 1026,
   "metadata": {},
   "outputs": [
    {
     "name": "stdout",
     "output_type": "stream",
     "text": [
      "Xは | Yに関する -> 最初の -> 会議で | 作り出した\n",
      "Xは | Yの -> 会議で | 作り出した\n",
      "Xは | Yで | 作り出した\n",
      "Xは | Yという -> 用語を | 作り出した\n",
      "Xは | Yを | 作り出した\n",
      "Xに関する -> Yの\n",
      "Xに関する -> 最初の -> Yで\n",
      "Xに関する | Yという -> 用語を | 作り出した\n",
      "Xに関する | Yを | 作り出した\n",
      "Xの -> Yで\n",
      "Xの | Yという -> 用語を | 作り出した\n",
      "Xの | Yを | 作り出した\n",
      "Xで | Yという -> 用語を | 作り出した\n",
      "Xで | Yを | 作り出した\n",
      "Xという -> Yを\n"
     ]
    }
   ],
   "source": [
    "#49 test\n",
    "mctest = 'ジョン・マッカーシーはAIに関する最初の会議で人工知能という用語を作り出した'\n",
    "mct = chunking(mctest,True)\n",
    "pathfin\n",
    "meinum2 = []\n",
    "for b in range(len(mct)):\n",
    "    if '名詞' in [m.pos for m in mct[b].morph]:\n",
    "        meinum2.append(b)\n",
    "meipair = [[b,c] for b in meinum2 for c in meinum2 if b<c ]\n",
    "for aaa in meipair:\n",
    "    bh = []\n",
    "    bh0 = []\n",
    "    for a in pathfin3:\n",
    "        if mct[aaa[0]].words() in a:\n",
    "            bh.append(a)\n",
    "        if mct[aaa[1]].words() in a:\n",
    "            bh0.append(a)\n",
    "    bh2 = [1,2,3,4,5,6,7,8,9]\n",
    "    for a in bh:\n",
    "        if len(a) < len(bh2):\n",
    "            bh2 = a\n",
    "    bh3 = [1,2,3,4,5,6,7,9,10]\n",
    "    for a in bh0:\n",
    "        if len(a) < len(bh3):\n",
    "            bh3 = a\n",
    "    c = []\n",
    "    d = []\n",
    "    e = []\n",
    "    f = []\n",
    "    ex = ''.join(xify(bh2[0],'X'))\n",
    "    if ex == '':\n",
    "        ex = ''.join(xify(bh2[1],'X'))\n",
    "    wai = ''.join(xify(bh3[0],'Y'))\n",
    "    direct = False\n",
    "    for a in bh2:\n",
    "        if a == bh3[0]:\n",
    "            d.append(c+[a])\n",
    "            direct = True\n",
    "        else:\n",
    "            c.append(a)\n",
    "            if a in bh3[1:]:\n",
    "                e.append(a)\n",
    "    for a in bh3[1:]:\n",
    "        if a not in bh2[1:]:\n",
    "            f.append(a)\n",
    "    if direct == True:\n",
    "        print('{}'.format(' -> '.join([ex]+d[0][1:-1]+[wai])))\n",
    "    else:\n",
    "        print('{} | {} | {}'.format(ex,' -> '.join([wai]+f),e[0]))"
   ]
  },
  {
   "cell_type": "code",
   "execution_count": 1027,
   "metadata": {},
   "outputs": [],
   "source": [
    "def xify(tstring,x):\n",
    "    chk = chunking(tstring,True)\n",
    "    morlist = []\n",
    "    xtimer = False\n",
    "    for morphs in chk[0].morph:\n",
    "        if morphs.pos == '名詞':\n",
    "            xtimer = True\n",
    "        elif morphs.pos == '記号':\n",
    "            xtimer = True\n",
    "        else:\n",
    "            if xtimer == True:\n",
    "                morlist.append('{}'.format(x))\n",
    "                xtimer = False\n",
    "            morlist.append(morphs.surface)\n",
    "    return morlist"
   ]
  },
  {
   "cell_type": "code",
   "execution_count": null,
   "metadata": {},
   "outputs": [],
   "source": []
  },
  {
   "cell_type": "code",
   "execution_count": null,
   "metadata": {},
   "outputs": [],
   "source": []
  },
  {
   "cell_type": "code",
   "execution_count": null,
   "metadata": {},
   "outputs": [],
   "source": []
  },
  {
   "cell_type": "code",
   "execution_count": null,
   "metadata": {},
   "outputs": [],
   "source": []
  },
  {
   "cell_type": "code",
   "execution_count": 440,
   "metadata": {},
   "outputs": [],
   "source": []
  },
  {
   "cell_type": "code",
   "execution_count": null,
   "metadata": {},
   "outputs": [],
   "source": []
  },
  {
   "cell_type": "code",
   "execution_count": null,
   "metadata": {},
   "outputs": [],
   "source": []
  },
  {
   "cell_type": "code",
   "execution_count": null,
   "metadata": {},
   "outputs": [],
   "source": []
  }
 ],
 "metadata": {
  "kernelspec": {
   "display_name": "Python 3",
   "language": "python",
   "name": "python3"
  },
  "language_info": {
   "codemirror_mode": {
    "name": "ipython",
    "version": 3
   },
   "file_extension": ".py",
   "mimetype": "text/x-python",
   "name": "python",
   "nbconvert_exporter": "python",
   "pygments_lexer": "ipython3",
   "version": "3.9.0"
  }
 },
 "nbformat": 4,
 "nbformat_minor": 4
}
